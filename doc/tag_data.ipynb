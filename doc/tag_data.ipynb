{
 "cells": [
  {
   "cell_type": "markdown",
   "metadata": {},
   "source": [
    "# Tagging data\n",
    "\n",
    "A simple interface to annotate data automatically using the watchdog package."
   ]
  },
  {
   "cell_type": "code",
   "execution_count": 1,
   "metadata": {},
   "outputs": [],
   "source": [
    "from watchdog.observers import Observer\n",
    "from watchdog.events import FileSystemEventHandler\n",
    "from pathlib import Path\n",
    "import pandas as pd\n",
    "import yaml"
   ]
  },
  {
   "cell_type": "markdown",
   "metadata": {},
   "source": [
    "Define the folders where the raw CSV data and the YAML template is stored, as well as the suffix of the observed files."
   ]
  },
  {
   "cell_type": "code",
   "execution_count": 2,
   "metadata": {},
   "outputs": [],
   "source": [
    "# adapt accordingly\n",
    "observed_dir = 'data/raw/'\n",
    "yaml_template = 'files/yaml_templates/demo.yml'\n",
    "suffix = '.csv' # mind the dot"
   ]
  },
  {
   "cell_type": "markdown",
   "metadata": {},
   "source": [
    "Define which operations should be performed when a new file is created in tha raw data folder. Here we simply add a YAML file, based on the YAML template, where the sample user name can be modified while tagging multiple files."
   ]
  },
  {
   "cell_type": "code",
   "execution_count": 3,
   "metadata": {},
   "outputs": [],
   "source": [
    "def tag_file(filename):\n",
    "    # Load the metadata from a yaml template.\n",
    "    with open(yaml_template, 'rb') as f:\n",
    "        metadata = yaml.load(f, Loader=yaml.SafeLoader)\n",
    "\n",
    "    # Enhance the matadatada with additional descriptors\n",
    "    metadata.setdefault('file', filename)\n",
    "    # or replace descriptors.\n",
    "    metadata['sample name'] = 'Joanne Doe'\n",
    "\n",
    "    # Write an output YAML file.\n",
    "    outyaml = Path(filename).with_suffix(suffix + '.meta.yml')\n",
    "    with open(outyaml, 'w') as f:\n",
    "        yaml.dump(metadata, f)"
   ]
  },
  {
   "cell_type": "markdown",
   "metadata": {},
   "source": [
    "Create the observer"
   ]
  },
  {
   "cell_type": "code",
   "execution_count": 4,
   "metadata": {},
   "outputs": [],
   "source": [
    "class NewFileHandler(FileSystemEventHandler):\n",
    "    def on_created(self, event):\n",
    "        if Path(event.src_path).suffix == suffix:\n",
    "            # Print the filename\n",
    "            print(event.src_path)\n",
    "            # or parse the filename to a method\n",
    "            tag_file(event.src_path)\n",
    "\n",
    "# create an observer\n",
    "observer = Observer()\n",
    "\n",
    "# schedule the observer to observe the folder\n",
    "observer.schedule(NewFileHandler(), path=observed_dir, recursive=False)\n",
    "\n",
    "# start the observer\n",
    "observer.start()"
   ]
  },
  {
   "cell_type": "markdown",
   "metadata": {},
   "source": [
    "Create some data. A YAML file should be saved along with the data."
   ]
  },
  {
   "cell_type": "code",
   "execution_count": 5,
   "metadata": {},
   "outputs": [
    {
     "name": "stdout",
     "output_type": "stream",
     "text": [
      "data/raw/demo_data.csv\n"
     ]
    }
   ],
   "source": [
    "data = {'x': [1,2,3], 'y':[1,2,3]}\n",
    "df = pd.DataFrame(data)\n",
    "df.to_csv('./data/raw/demo_data.csv')"
   ]
  },
  {
   "cell_type": "markdown",
   "metadata": {},
   "source": [
    "Stop the observer"
   ]
  },
  {
   "cell_type": "code",
   "execution_count": 6,
   "metadata": {},
   "outputs": [],
   "source": [
    "observer.stop()"
   ]
  },
  {
   "cell_type": "markdown",
   "metadata": {},
   "source": [
    "Explore the saved metadata"
   ]
  },
  {
   "cell_type": "code",
   "execution_count": 7,
   "metadata": {},
   "outputs": [
    {
     "data": {
      "text/plain": [
       "{'experiment': 'My first demo experiment.',\n",
       " 'file': 'data/raw/demo_data.csv',\n",
       " 'sample name': 'Joanne Doe',\n",
       " 'user': 'Max Doe'}"
      ]
     },
     "execution_count": 7,
     "metadata": {},
     "output_type": "execute_result"
    }
   ],
   "source": [
    "with open('data/raw/demo_data.csv.meta.yml', 'rb') as f:\n",
    "    metadata = yaml.load(f, Loader=yaml.SafeLoader)\n",
    "metadata"
   ]
  },
  {
   "cell_type": "markdown",
   "metadata": {},
   "source": [
    "The original metadata from the template for comparison."
   ]
  },
  {
   "cell_type": "code",
   "execution_count": 8,
   "metadata": {},
   "outputs": [
    {
     "data": {
      "text/plain": [
       "{'user': 'Max Doe', 'experiment': 'My first demo experiment.'}"
      ]
     },
     "execution_count": 8,
     "metadata": {},
     "output_type": "execute_result"
    }
   ],
   "source": [
    "with open('files/yaml_templates/demo.yml', 'rb') as f:\n",
    "    metadata = yaml.load(f, Loader=yaml.SafeLoader)\n",
    "metadata"
   ]
  },
  {
   "cell_type": "code",
   "execution_count": null,
   "metadata": {},
   "outputs": [],
   "source": []
  }
 ],
 "metadata": {
  "kernelspec": {
   "display_name": "watchdog",
   "language": "python",
   "name": "python3"
  },
  "language_info": {
   "codemirror_mode": {
    "name": "ipython",
    "version": 3
   },
   "file_extension": ".py",
   "mimetype": "text/x-python",
   "name": "python",
   "nbconvert_exporter": "python",
   "pygments_lexer": "ipython3",
   "version": "3.12.2"
  }
 },
 "nbformat": 4,
 "nbformat_minor": 2
}
